{
 "cells": [
  {
   "cell_type": "code",
   "execution_count": 20,
   "metadata": {},
   "outputs": [
    {
     "name": "stdout",
     "output_type": "stream",
     "text": [
      "\n"
     ]
    }
   ],
   "source": [
    "import sklearn\n",
    "from sklearn import svm\n",
    "from sklearn.neighbors import KNeighborsClassifier\n",
    "from sklearn.preprocessing import LabelEncoder\n",
    "import pandas as pd\n",
    "\n",
    "#importing data\n",
    "data = pd.read_csv(\"data.csv\")\n",
    "\n",
    "data = data[[\"Type\",\"Air temperature\",\"Process temperature\",\"Rotational speed [rpm]\",\"Torque\",\"Tool wear\",\"Machine failure\"]]\n",
    "print()\n",
    "\n",
    "\n"
   ]
  },
  {
   "cell_type": "code",
   "execution_count": 21,
   "metadata": {},
   "outputs": [],
   "source": [
    "\n",
    "le = LabelEncoder() #Restructure data so its fit to use\n",
    "\n",
    "Type = le.fit_transform(list(data[\"Type\"]))\n",
    "Air = le.fit_transform(list(data[\"Air temperature\"]))\n",
    "Process = le.fit_transform(list(data[\"Process temperature\"]))\n",
    "Rotate = le.fit_transform(list(data[\"Rotational speed [rpm]\"]))\n",
    "Torque = le.fit_transform(list(data[\"Torque\"]))\n",
    "Tool = le.fit_transform(list(data[\"Tool wear\"]))\n",
    "cls = le.fit_transform(list(data[\"Machine failure\"]))\n",
    "\n",
    "predict = \"Machine failure\""
   ]
  },
  {
   "cell_type": "code",
   "execution_count": 24,
   "metadata": {},
   "outputs": [],
   "source": [
    "#assigning features and target \n",
    "X = list(zip(Type,Air,Process,Rotate,Torque,Tool))\n",
    "Y= list(cls)\n",
    "\n",
    "#spliting the data for training and testing\n",
    "x_train,x_test,y_train,y_test = sklearn.model_selection.train_test_split(X,Y,test_size=0.1)\n"
   ]
  },
  {
   "cell_type": "code",
   "execution_count": 26,
   "metadata": {},
   "outputs": [
    {
     "name": "stdout",
     "output_type": "stream",
     "text": [
      "0.966\n"
     ]
    }
   ],
   "source": [
    "\n",
    "\n",
    "# model = KNeighborsClassifier(n_neighbors=8)\n",
    "model = svm.SVC(kernel=\"linear\")\n",
    "#decide the algorithm x for the model \n",
    "\n",
    "\n",
    "model.fit(x_train,y_train) # training the model \n",
    "\n",
    "acc = model.score(x_test,y_test) #accuracy of the model \n",
    "print(acc)\n"
   ]
  }
 ],
 "metadata": {
  "kernelspec": {
   "display_name": "flow",
   "language": "python",
   "name": "python3"
  },
  "language_info": {
   "codemirror_mode": {
    "name": "ipython",
    "version": 3
   },
   "file_extension": ".py",
   "mimetype": "text/x-python",
   "name": "python",
   "nbconvert_exporter": "python",
   "pygments_lexer": "ipython3",
   "version": "3.12.2"
  }
 },
 "nbformat": 4,
 "nbformat_minor": 2
}
